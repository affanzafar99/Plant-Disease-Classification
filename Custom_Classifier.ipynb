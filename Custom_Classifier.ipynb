{
  "nbformat": 4,
  "nbformat_minor": 0,
  "metadata": {
    "colab": {
      "name": "Custom Classifier",
      "provenance": [],
      "collapsed_sections": [
        "YJe9VG4MRUXO"
      ],
      "mount_file_id": "16QLumsMwCyJD9vXwKmI35qF6-GrcLtNa",
      "authorship_tag": "ABX9TyN12tVzczgmtajiFXs8RQue",
      "include_colab_link": true
    },
    "kernelspec": {
      "name": "python3",
      "display_name": "Python 3"
    },
    "widgets": {
      "application/vnd.jupyter.widget-state+json": {
        "0589feb5859840728fc8f0d555c46ff8": {
          "model_module": "@jupyter-widgets/controls",
          "model_name": "HBoxModel",
          "state": {
            "_view_name": "HBoxView",
            "_dom_classes": [],
            "_model_name": "HBoxModel",
            "_view_module": "@jupyter-widgets/controls",
            "_model_module_version": "1.5.0",
            "_view_count": null,
            "_view_module_version": "1.5.0",
            "box_style": "",
            "layout": "IPY_MODEL_b8cda69ea5ba466b9e65808aa6e74203",
            "_model_module": "@jupyter-widgets/controls",
            "children": [
              "IPY_MODEL_8eba34f9c4844e11a0b668d5592ca77c",
              "IPY_MODEL_1e6c9a162f7f49b782da7ec5ba55a8f3"
            ]
          }
        },
        "b8cda69ea5ba466b9e65808aa6e74203": {
          "model_module": "@jupyter-widgets/base",
          "model_name": "LayoutModel",
          "state": {
            "_view_name": "LayoutView",
            "grid_template_rows": null,
            "right": null,
            "justify_content": null,
            "_view_module": "@jupyter-widgets/base",
            "overflow": null,
            "_model_module_version": "1.2.0",
            "_view_count": null,
            "flex_flow": null,
            "width": null,
            "min_width": null,
            "border": null,
            "align_items": null,
            "bottom": null,
            "_model_module": "@jupyter-widgets/base",
            "top": null,
            "grid_column": null,
            "overflow_y": null,
            "overflow_x": null,
            "grid_auto_flow": null,
            "grid_area": null,
            "grid_template_columns": null,
            "flex": null,
            "_model_name": "LayoutModel",
            "justify_items": null,
            "grid_row": null,
            "max_height": null,
            "align_content": null,
            "visibility": null,
            "align_self": null,
            "height": null,
            "min_height": null,
            "padding": null,
            "grid_auto_rows": null,
            "grid_gap": null,
            "max_width": null,
            "order": null,
            "_view_module_version": "1.2.0",
            "grid_template_areas": null,
            "object_position": null,
            "object_fit": null,
            "grid_auto_columns": null,
            "margin": null,
            "display": null,
            "left": null
          }
        },
        "8eba34f9c4844e11a0b668d5592ca77c": {
          "model_module": "@jupyter-widgets/controls",
          "model_name": "FloatProgressModel",
          "state": {
            "_view_name": "ProgressView",
            "style": "IPY_MODEL_9635513156114263856299786962dbbe",
            "_dom_classes": [],
            "description": "100%",
            "_model_name": "FloatProgressModel",
            "bar_style": "success",
            "max": 46827520,
            "_view_module": "@jupyter-widgets/controls",
            "_model_module_version": "1.5.0",
            "value": 46827520,
            "_view_count": null,
            "_view_module_version": "1.5.0",
            "orientation": "horizontal",
            "min": 0,
            "description_tooltip": null,
            "_model_module": "@jupyter-widgets/controls",
            "layout": "IPY_MODEL_47671ca59a8145d4af6c6739dee0fba3"
          }
        },
        "1e6c9a162f7f49b782da7ec5ba55a8f3": {
          "model_module": "@jupyter-widgets/controls",
          "model_name": "HTMLModel",
          "state": {
            "_view_name": "HTMLView",
            "style": "IPY_MODEL_be1e238786074a358884cd132a0cf11c",
            "_dom_classes": [],
            "description": "",
            "_model_name": "HTMLModel",
            "placeholder": "​",
            "_view_module": "@jupyter-widgets/controls",
            "_model_module_version": "1.5.0",
            "value": " 44.7M/44.7M [00:00&lt;00:00, 98.7MB/s]",
            "_view_count": null,
            "_view_module_version": "1.5.0",
            "description_tooltip": null,
            "_model_module": "@jupyter-widgets/controls",
            "layout": "IPY_MODEL_b3d241f4e21a462d848c1d8f2aeb5623"
          }
        },
        "9635513156114263856299786962dbbe": {
          "model_module": "@jupyter-widgets/controls",
          "model_name": "ProgressStyleModel",
          "state": {
            "_view_name": "StyleView",
            "_model_name": "ProgressStyleModel",
            "description_width": "initial",
            "_view_module": "@jupyter-widgets/base",
            "_model_module_version": "1.5.0",
            "_view_count": null,
            "_view_module_version": "1.2.0",
            "bar_color": null,
            "_model_module": "@jupyter-widgets/controls"
          }
        },
        "47671ca59a8145d4af6c6739dee0fba3": {
          "model_module": "@jupyter-widgets/base",
          "model_name": "LayoutModel",
          "state": {
            "_view_name": "LayoutView",
            "grid_template_rows": null,
            "right": null,
            "justify_content": null,
            "_view_module": "@jupyter-widgets/base",
            "overflow": null,
            "_model_module_version": "1.2.0",
            "_view_count": null,
            "flex_flow": null,
            "width": null,
            "min_width": null,
            "border": null,
            "align_items": null,
            "bottom": null,
            "_model_module": "@jupyter-widgets/base",
            "top": null,
            "grid_column": null,
            "overflow_y": null,
            "overflow_x": null,
            "grid_auto_flow": null,
            "grid_area": null,
            "grid_template_columns": null,
            "flex": null,
            "_model_name": "LayoutModel",
            "justify_items": null,
            "grid_row": null,
            "max_height": null,
            "align_content": null,
            "visibility": null,
            "align_self": null,
            "height": null,
            "min_height": null,
            "padding": null,
            "grid_auto_rows": null,
            "grid_gap": null,
            "max_width": null,
            "order": null,
            "_view_module_version": "1.2.0",
            "grid_template_areas": null,
            "object_position": null,
            "object_fit": null,
            "grid_auto_columns": null,
            "margin": null,
            "display": null,
            "left": null
          }
        },
        "be1e238786074a358884cd132a0cf11c": {
          "model_module": "@jupyter-widgets/controls",
          "model_name": "DescriptionStyleModel",
          "state": {
            "_view_name": "StyleView",
            "_model_name": "DescriptionStyleModel",
            "description_width": "",
            "_view_module": "@jupyter-widgets/base",
            "_model_module_version": "1.5.0",
            "_view_count": null,
            "_view_module_version": "1.2.0",
            "_model_module": "@jupyter-widgets/controls"
          }
        },
        "b3d241f4e21a462d848c1d8f2aeb5623": {
          "model_module": "@jupyter-widgets/base",
          "model_name": "LayoutModel",
          "state": {
            "_view_name": "LayoutView",
            "grid_template_rows": null,
            "right": null,
            "justify_content": null,
            "_view_module": "@jupyter-widgets/base",
            "overflow": null,
            "_model_module_version": "1.2.0",
            "_view_count": null,
            "flex_flow": null,
            "width": null,
            "min_width": null,
            "border": null,
            "align_items": null,
            "bottom": null,
            "_model_module": "@jupyter-widgets/base",
            "top": null,
            "grid_column": null,
            "overflow_y": null,
            "overflow_x": null,
            "grid_auto_flow": null,
            "grid_area": null,
            "grid_template_columns": null,
            "flex": null,
            "_model_name": "LayoutModel",
            "justify_items": null,
            "grid_row": null,
            "max_height": null,
            "align_content": null,
            "visibility": null,
            "align_self": null,
            "height": null,
            "min_height": null,
            "padding": null,
            "grid_auto_rows": null,
            "grid_gap": null,
            "max_width": null,
            "order": null,
            "_view_module_version": "1.2.0",
            "grid_template_areas": null,
            "object_position": null,
            "object_fit": null,
            "grid_auto_columns": null,
            "margin": null,
            "display": null,
            "left": null
          }
        }
      }
    },
    "accelerator": "GPU"
  },
  "cells": [
    {
      "cell_type": "markdown",
      "metadata": {
        "id": "view-in-github",
        "colab_type": "text"
      },
      "source": [
        "<a href=\"https://colab.research.google.com/github/affanzafar99/Plant-Disease-Classification-ResNet/blob/main/Custom_Classifier.ipynb\" target=\"_parent\"><img src=\"https://colab.research.google.com/assets/colab-badge.svg\" alt=\"Open In Colab\"/></a>"
      ]
    },
    {
      "cell_type": "markdown",
      "metadata": {
        "id": "XP_s5ImWKnkS"
      },
      "source": [
        "# Getting the number of files in each folder"
      ]
    },
    {
      "cell_type": "code",
      "metadata": {
        "colab": {
          "base_uri": "https://localhost:8080/"
        },
        "id": "pNLrIFCIizXJ",
        "outputId": "a6702b48-ed5a-4392-bdd1-b4721025bbda"
      },
      "source": [
        "import os\n",
        "\n",
        "from os.path import join, getsize\n",
        "for root, dirs, files in os.walk('/content/drive/MyDrive/Plant_Pathology/train'):\n",
        "    print(root, \"consumes\", end=\" \")\n",
        "    print(sum(getsize(join(root, name)) for name in files), end=\" \")\n",
        "    print(\"bytes in\", len(files), \"non-directory files\")\n",
        "    if 'CVS' in dirs:\n",
        "        dirs.remove('CVS')  # don't visit CVS directories"
      ],
      "execution_count": null,
      "outputs": [
        {
          "output_type": "stream",
          "text": [
            "/content/drive/MyDrive/Plant_Pathology/train consumes 0 bytes in 0 non-directory files\n",
            "/content/drive/MyDrive/Plant_Pathology/train/rust consumes 137548958 bytes in 622 non-directory files\n",
            "/content/drive/MyDrive/Plant_Pathology/train/scab consumes 120275453 bytes in 592 non-directory files\n",
            "/content/drive/MyDrive/Plant_Pathology/train/multiple_diseases consumes 20367110 bytes in 91 non-directory files\n",
            "/content/drive/MyDrive/Plant_Pathology/train/healthy consumes 123665033 bytes in 516 non-directory files\n"
          ],
          "name": "stdout"
        }
      ]
    },
    {
      "cell_type": "code",
      "metadata": {
        "colab": {
          "base_uri": "https://localhost:8080/"
        },
        "id": "QOcsBQl-i2V2",
        "outputId": "cca46783-d0d4-4067-f52a-878d8ee5e226"
      },
      "source": [
        "for root,dirs,files in os.walk('/content/drive/MyDrive/Plant_Pathology/test'):\n",
        "    print(root, \"consumes\", end=\" \")\n",
        "    print(sum(getsize(join(root, name)) for name in files), end=\" \")\n",
        "    print(\"bytes in\", len(files), \"non-directory files\")\n",
        "    if 'CVS' in dirs:\n",
        "        dirs.remove('CVS')  # don't visit CVS directories\n",
        "\n",
        "\n",
        "lis=os.listdir('/content/drive/MyDrive/Plant_Pathology/train/healthy')\n",
        "print(len(lis))\n"
      ],
      "execution_count": null,
      "outputs": [
        {
          "output_type": "stream",
          "text": [
            "/content/drive/MyDrive/Plant_Pathology/test consumes 421831303 bytes in 1821 non-directory files\n",
            "516\n"
          ],
          "name": "stdout"
        }
      ]
    },
    {
      "cell_type": "markdown",
      "metadata": {
        "id": "Ecc2NPbqTM7n"
      },
      "source": [
        "##Importing libraries and Preprocessing data"
      ]
    },
    {
      "cell_type": "code",
      "metadata": {
        "id": "Uywk2Pd7hCrf"
      },
      "source": [
        "import torch\n",
        "import torchvision\n",
        "import torchvision.datasets\n",
        "import torchvision.transforms as transforms\n",
        "import torchvision.models as models\n",
        "import numpy as np\n",
        "import matplotlib.pyplot as plt\n",
        "import torch.nn as nn\n",
        "import os\n",
        "import natsort\n",
        "from torch.utils.data import Dataset, DataLoader\n",
        "import torch.optim as optim\n",
        "import torchvision.datasets as datasets"
      ],
      "execution_count": null,
      "outputs": []
    },
    {
      "cell_type": "code",
      "metadata": {
        "id": "UNdN_P1gAVmE"
      },
      "source": [
        "train_transforms = transforms.Compose([transforms.Resize((128, 128)),\n",
        "        transforms.RandomHorizontalFlip(),\n",
        "        transforms.ToTensor(),\n",
        "        #transforms.Normalize([0.485, 0.456, 0.406], [0.229, 0.224, 0.225])\n",
        "        transforms.Normalize([0.5],[0.5])\n",
        "        ])"
      ],
      "execution_count": null,
      "outputs": []
    },
    {
      "cell_type": "code",
      "metadata": {
        "id": "vmBk1CQThah6"
      },
      "source": [
        "#dataset = torchvision.datasets.ImageFolder(root='/content/drive/MyDrive/Plant_Pathology/train',\n",
        "#                                           transform=transforms.Compose([transforms.ToTensor()]))\n",
        "\n",
        "dataset = torchvision.datasets.ImageFolder(root='/content/drive/MyDrive/Plant_Pathology/train',\n",
        "                                           transform=train_transforms)\n",
        "\n",
        "\n"
      ],
      "execution_count": null,
      "outputs": []
    },
    {
      "cell_type": "code",
      "metadata": {
        "colab": {
          "base_uri": "https://localhost:8080/"
        },
        "id": "RPlwCnu1TmLo",
        "outputId": "50a806ec-d249-4ccf-fd1f-679c4636c979"
      },
      "source": [
        "dataset"
      ],
      "execution_count": null,
      "outputs": [
        {
          "output_type": "execute_result",
          "data": {
            "text/plain": [
              "Dataset ImageFolder\n",
              "    Number of datapoints: 1821\n",
              "    Root location: /content/drive/MyDrive/Plant_Pathology/train\n",
              "    StandardTransform\n",
              "Transform: Compose(\n",
              "               Resize(size=(128, 128), interpolation=bilinear)\n",
              "               RandomHorizontalFlip(p=0.5)\n",
              "               ToTensor()\n",
              "               Normalize(mean=[0.5], std=[0.5])\n",
              "           )"
            ]
          },
          "metadata": {
            "tags": []
          },
          "execution_count": 4
        }
      ]
    },
    {
      "cell_type": "code",
      "metadata": {
        "colab": {
          "base_uri": "https://localhost:8080/"
        },
        "id": "-PdTtwX61Tro",
        "outputId": "93621aaf-279f-411c-c788-8ecca0867320"
      },
      "source": [
        "print(dataset[2][0].shape)"
      ],
      "execution_count": null,
      "outputs": [
        {
          "output_type": "stream",
          "text": [
            "torch.Size([3, 128, 128])\n"
          ],
          "name": "stdout"
        }
      ]
    },
    {
      "cell_type": "code",
      "metadata": {
        "id": "kUEDRMYIh6nw"
      },
      "source": [
        "#trainloader = DataLoader(dataset, batch_size= 20,\n",
        "#                                         shuffle=True, num_workers=3)"
      ],
      "execution_count": null,
      "outputs": []
    },
    {
      "cell_type": "code",
      "metadata": {
        "colab": {
          "base_uri": "https://localhost:8080/"
        },
        "id": "hZlFPE-himGD",
        "outputId": "303e2c57-ca65-4348-dbad-a3329caaf997"
      },
      "source": [
        "dataset_size = len(dataset)\n",
        "print(dataset_size)"
      ],
      "execution_count": null,
      "outputs": [
        {
          "output_type": "stream",
          "text": [
            "1821\n"
          ],
          "name": "stdout"
        }
      ]
    },
    {
      "cell_type": "code",
      "metadata": {
        "colab": {
          "base_uri": "https://localhost:8080/"
        },
        "id": "KaHG1JKdiuXr",
        "outputId": "41e64e4c-8836-4d8c-a726-12348a2f2aa6"
      },
      "source": [
        "class_names=dataset.classes\n",
        "\n",
        "print(class_names)"
      ],
      "execution_count": null,
      "outputs": [
        {
          "output_type": "stream",
          "text": [
            "['healthy', 'multiple_diseases', 'rust', 'scab']\n"
          ],
          "name": "stdout"
        }
      ]
    },
    {
      "cell_type": "code",
      "metadata": {
        "colab": {
          "base_uri": "https://localhost:8080/"
        },
        "id": "NBSJqFelokGz",
        "outputId": "5677ec32-bb5c-442f-a2b9-fb1309526069"
      },
      "source": [
        "#code to split dataset into training and validation set\n",
        "\n",
        "validation_split=0.1\n",
        "indices = list(range(dataset_size))\n",
        "split = int(np.floor(validation_split*dataset_size))\n",
        "np.random.seed(1)\n",
        "np.random.shuffle(indices)\n",
        "train_indices, val_indices = indices[split:], indices[:split]\n",
        "#print(val_indices)\n",
        "\n",
        "train_sampler = torch.utils.data.sampler.SubsetRandomSampler(train_indices)\n",
        "valid_sampler = torch.utils.data.sampler.SubsetRandomSampler(val_indices)\n",
        "\n",
        "print(len(train_sampler))\n",
        "\n",
        "train_loader = torch.utils.data.DataLoader(dataset, batch_size=20, \n",
        "                                           sampler=train_sampler, num_workers=0)\n",
        "validation_loader = torch.utils.data.DataLoader(dataset, batch_size=20,\n",
        "                                                sampler=valid_sampler, num_workers=0)"
      ],
      "execution_count": null,
      "outputs": [
        {
          "output_type": "stream",
          "text": [
            "1639\n"
          ],
          "name": "stdout"
        }
      ]
    },
    {
      "cell_type": "code",
      "metadata": {
        "id": "C3wVgOfg6PtB"
      },
      "source": [
        "#mnist_dataset = datasets.MNIST(root='./data', train=True, download=True, transform=train_transforms)\n",
        "#train_loader = torch.utils.data.DataLoader(mnist_dataset, batch_size=20, num_workers=0)"
      ],
      "execution_count": null,
      "outputs": []
    },
    {
      "cell_type": "markdown",
      "metadata": {
        "id": "CUWboxo7V32P"
      },
      "source": [
        "#Model Definition"
      ]
    },
    {
      "cell_type": "code",
      "metadata": {
        "id": "XKcZz_6mJOA6"
      },
      "source": [
        "from torch.nn import Conv2d, functional as F, Linear, MaxPool2d\n",
        "\n",
        "#import torch"
      ],
      "execution_count": null,
      "outputs": []
    },
    {
      "cell_type": "code",
      "metadata": {
        "id": "wbeQYPnbW6fh"
      },
      "source": [
        "class Network(torch.nn.Module):\n",
        "  def __init__(self):\n",
        "    super().__init__()\n",
        "\n",
        "    self.conv11 = Conv2d(3,64,kernel_size=3, stride=1, padding= 1)\n",
        "    self.conv12 = Conv2d(64,64,kernel_size=3,stride=1,padding=1)\n",
        "    self.batch1 = nn.BatchNorm2d(64)\n",
        "    self.pool1 = MaxPool2d(kernel_size=2)\n",
        "\n",
        "    self.conv21 = Conv2d(64,128,kernel_size=3, stride=1, padding=1)\n",
        "    self.conv22 = Conv2d(128,128,kernel_size=3,stride=1,padding=1)\n",
        "    self.batch2 = nn.BatchNorm2d(128)\n",
        "    self.pool2 = MaxPool2d(kernel_size=2)\n",
        "\n",
        "    self.conv31 = Conv2d(128,256,kernel_size=3, stride=1, padding=1)\n",
        "    self.conv32 = Conv2d(256,256,kernel_size=3,stride=1,padding=1)\n",
        "    self.batch3 = nn.BatchNorm2d(256)\n",
        "    self.pool3 = MaxPool2d(kernel_size=2)\n",
        "\n",
        "    self.conv41 = Conv2d(256,512,kernel_size=3, stride=1, padding=1)\n",
        "    self.conv42 = Conv2d(512,512,kernel_size=3,stride=1,padding=1)\n",
        "    self.batch4 = nn.BatchNorm2d(512)\n",
        "    self.pool4 = MaxPool2d(kernel_size=2)\n",
        "\n",
        "    self.fc1 = Linear(512*8*8,64)\n",
        "    self.fc2 = Linear(64,4)\n",
        "\n",
        "  def forward(self, X):\n",
        "    #print(X.shape)\n",
        "    X=F.relu(self.conv11(X))\n",
        "    X=F.relu(self.conv12(X))\n",
        "    X=self.batch1(X)\n",
        "    X = self.pool1(X)\n",
        "    #print(X.shape)\n",
        "    X=F.relu(self.conv21(X))\n",
        "    X=F.relu(self.conv22(X))\n",
        "    #X=nn.BatchNorm2d(X)\n",
        "    X=self.batch2(X)\n",
        "    X = self.pool2(X)\n",
        "    #print(X.shape)\n",
        "    X=F.relu(self.conv31(X))\n",
        "    X=F.relu(self.conv32(X))\n",
        "    #X=nn.batch_norm(X)\n",
        "    X=self.batch3(X)\n",
        "    X = self.pool3(X)\n",
        "    #print(X.shape)\n",
        "    X=F.relu(self.conv41(X))\n",
        "    X=F.relu(self.conv42(X))\n",
        "    #X=nn.batch_norm(X)\n",
        "    X=self.batch4(X)\n",
        "    X = self.pool4(X)\n",
        "    #print(X.shape)\n",
        "    X = X.view(-1,X.shape[1]*X.shape[2]*X.shape[3])\n",
        "    X = F.relu(self.fc1(X))\n",
        "    X = self.fc2(X)\n",
        "    return X"
      ],
      "execution_count": null,
      "outputs": []
    },
    {
      "cell_type": "code",
      "metadata": {
        "id": "27lXOA4Ri-eg"
      },
      "source": [
        "import PIL"
      ],
      "execution_count": null,
      "outputs": []
    },
    {
      "cell_type": "code",
      "metadata": {
        "colab": {
          "base_uri": "https://localhost:8080/"
        },
        "id": "5fRaaVkdcuG6",
        "outputId": "422831a6-d55b-47cc-a403-8a6df7455821"
      },
      "source": [
        "len(train_loader)"
      ],
      "execution_count": null,
      "outputs": [
        {
          "output_type": "execute_result",
          "data": {
            "text/plain": [
              "82"
            ]
          },
          "metadata": {
            "tags": []
          },
          "execution_count": 13
        }
      ]
    },
    {
      "cell_type": "code",
      "metadata": {
        "colab": {
          "base_uri": "https://localhost:8080/"
        },
        "id": "CPW5wbkUdMCO",
        "outputId": "84d965bd-166e-4be2-bd3b-d6bdabe3409a"
      },
      "source": [
        "images, labels = next(iter(train_loader))\n",
        "print(len(images))"
      ],
      "execution_count": null,
      "outputs": [
        {
          "output_type": "stream",
          "text": [
            "20\n"
          ],
          "name": "stdout"
        }
      ]
    },
    {
      "cell_type": "code",
      "metadata": {
        "colab": {
          "base_uri": "https://localhost:8080/",
          "height": 190
        },
        "id": "bGdnVvWedPL3",
        "outputId": "030a5b3e-2952-48a3-a05e-95a4bb09e929"
      },
      "source": [
        "def imshow(inp, title=None):\n",
        "    \"\"\"Imshow for Tensor.\"\"\"\n",
        "    inp = inp.numpy().transpose((1, 2, 0))\n",
        "    mean = np.array([0.485, 0.456, 0.406])\n",
        "    std = np.array([0.229, 0.224, 0.225])\n",
        "    inp = std * inp + mean\n",
        "    inp = np.clip(inp, 0, 1)\n",
        "    plt.imshow(inp)\n",
        "    if title is not None:\n",
        "        plt.title(title)\n",
        "    plt.pause(0.001) \n",
        "\n",
        "out = torchvision.utils.make_grid(images)\n",
        "imshow(out, title=[class_names[x] for x in labels])"
      ],
      "execution_count": null,
      "outputs": [
        {
          "output_type": "display_data",
          "data": {
            "image/png": "[encoded data removed]",
            "text/plain": [
              "<Figure size 432x288 with 1 Axes>"
            ]
          },
          "metadata": {
            "tags": [],
            "needs_background": "light"
          }
        }
      ]
    },
    {
      "cell_type": "markdown",
      "metadata": {
        "id": "YJe9VG4MRUXO"
      },
      "source": [
        "#RESNET"
      ]
    },
    {
      "cell_type": "code",
      "metadata": {
        "id": "W-3F2zi6izRH",
        "colab": {
          "base_uri": "https://localhost:8080/",
          "height": 84,
          "referenced_widgets": [
            "0589feb5859840728fc8f0d555c46ff8",
            "b8cda69ea5ba466b9e65808aa6e74203",
            "8eba34f9c4844e11a0b668d5592ca77c",
            "1e6c9a162f7f49b782da7ec5ba55a8f3",
            "9635513156114263856299786962dbbe",
            "47671ca59a8145d4af6c6739dee0fba3",
            "be1e238786074a358884cd132a0cf11c",
            "b3d241f4e21a462d848c1d8f2aeb5623"
          ]
        },
        "outputId": "7749a0b9-a05a-4302-9ead-29c29e179776"
      },
      "source": [
        "resnet = models.resnet18(pretrained=True)"
      ],
      "execution_count": null,
      "outputs": [
        {
          "output_type": "stream",
          "text": [
            "Downloading: \"https://download.pytorch.org/models/resnet18-5c106cde.pth\" to /root/.cache/torch/hub/checkpoints/resnet18-5c106cde.pth\n"
          ],
          "name": "stderr"
        },
        {
          "output_type": "display_data",
          "data": {
            "application/vnd.jupyter.widget-view+json": {
              "model_id": "0589feb5859840728fc8f0d555c46ff8",
              "version_minor": 0,
              "version_major": 2
            },
            "text/plain": [
              "HBox(children=(FloatProgress(value=0.0, max=46827520.0), HTML(value='')))"
            ]
          },
          "metadata": {
            "tags": []
          }
        },
        {
          "output_type": "stream",
          "text": [
            "\n"
          ],
          "name": "stdout"
        }
      ]
    },
    {
      "cell_type": "code",
      "metadata": {
        "id": "9Y5lk_7edt_r"
      },
      "source": [
        "resnet"
      ],
      "execution_count": null,
      "outputs": []
    },
    {
      "cell_type": "code",
      "metadata": {
        "id": "NwpXnFG7fy4_"
      },
      "source": [
        "resnet.fc=nn.Linear(512,4)"
      ],
      "execution_count": null,
      "outputs": []
    },
    {
      "cell_type": "code",
      "metadata": {
        "id": "nhVPfzJFgQHu"
      },
      "source": [
        "resnet = resnet.cuda()"
      ],
      "execution_count": null,
      "outputs": []
    },
    {
      "cell_type": "code",
      "metadata": {
        "colab": {
          "base_uri": "https://localhost:8080/"
        },
        "id": "Sy7tecrS5RrI",
        "outputId": "53cd694a-15d4-4a82-c01b-75d025dae247"
      },
      "source": [
        "resParams = resnet.parameters()\n",
        "list(resParams)[61].requires_grad"
      ],
      "execution_count": null,
      "outputs": [
        {
          "output_type": "execute_result",
          "data": {
            "text/plain": [
              "True"
            ]
          },
          "metadata": {
            "tags": []
          },
          "execution_count": 21
        }
      ]
    },
    {
      "cell_type": "code",
      "metadata": {
        "id": "RLAfzx3_Nadu"
      },
      "source": [
        "#reset freeze layers\n",
        "for param in resnet.parameters():\n",
        "  param.requires_grad = True"
      ],
      "execution_count": null,
      "outputs": []
    },
    {
      "cell_type": "code",
      "metadata": {
        "id": "N5gBIBYeh7tF"
      },
      "source": [
        "print(resnet.parameters())"
      ],
      "execution_count": null,
      "outputs": []
    },
    {
      "cell_type": "code",
      "metadata": {
        "colab": {
          "base_uri": "https://localhost:8080/"
        },
        "id": "M4bfhGx88IrQ",
        "outputId": "65a3277f-7fac-4e06-fe6b-30be4a1eb8aa"
      },
      "source": [
        "count = 1\n",
        "for param in resnet.parameters():\n",
        "  if (count < 55):\n",
        "    param.requires_grad = False\n",
        "  count += 1\n",
        "  print(param.requires_grad)"
      ],
      "execution_count": null,
      "outputs": [
        {
          "output_type": "stream",
          "text": [
            "False\n",
            "False\n",
            "False\n",
            "False\n",
            "False\n",
            "False\n",
            "False\n",
            "False\n",
            "False\n",
            "False\n",
            "False\n",
            "False\n",
            "False\n",
            "False\n",
            "False\n",
            "False\n",
            "False\n",
            "False\n",
            "False\n",
            "False\n",
            "False\n",
            "False\n",
            "False\n",
            "False\n",
            "False\n",
            "False\n",
            "False\n",
            "False\n",
            "False\n",
            "False\n",
            "False\n",
            "False\n",
            "False\n",
            "False\n",
            "False\n",
            "False\n",
            "False\n",
            "False\n",
            "False\n",
            "False\n",
            "False\n",
            "False\n",
            "False\n",
            "False\n",
            "False\n",
            "False\n",
            "False\n",
            "False\n",
            "False\n",
            "False\n",
            "False\n",
            "False\n",
            "False\n",
            "False\n",
            "True\n",
            "True\n",
            "True\n",
            "True\n",
            "True\n",
            "True\n",
            "True\n",
            "True\n"
          ],
          "name": "stdout"
        }
      ]
    },
    {
      "cell_type": "markdown",
      "metadata": {
        "id": "Zg3D0O1kRaI8"
      },
      "source": [
        "#PROGRESS"
      ]
    },
    {
      "cell_type": "code",
      "metadata": {
        "id": "8ipY7UKXoEb0"
      },
      "source": [
        "\"\"\"model = nn.Sequential(Conv2d(3,3,kernel_size=3,stride=1,padding=1),\n",
        "                      MaxPool2d(kernel_size=3,stride=1,padding=0),\n",
        "                      Linear(124*124,64),\n",
        "                      Linear(64,4))\n",
        "\"\"\"                      "
      ],
      "execution_count": null,
      "outputs": []
    },
    {
      "cell_type": "code",
      "metadata": {
        "colab": {
          "base_uri": "https://localhost:8080/"
        },
        "id": "jDki7G9NY6l6",
        "outputId": "db22f161-209e-45e5-fa8d-f736008882b6"
      },
      "source": [
        "# model.parameters()"
      ],
      "execution_count": null,
      "outputs": [
        {
          "output_type": "execute_result",
          "data": {
            "text/plain": [
              "<generator object Module.parameters at 0x7f5503d94cd0>"
            ]
          },
          "metadata": {
            "tags": []
          },
          "execution_count": 25
        }
      ]
    },
    {
      "cell_type": "code",
      "metadata": {
        "id": "Qz8l6hUU-pcS"
      },
      "source": [
        "device = torch.device('cuda:0' if torch.cuda.is_available() else 'cpu')"
      ],
      "execution_count": null,
      "outputs": []
    },
    {
      "cell_type": "code",
      "metadata": {
        "colab": {
          "base_uri": "https://localhost:8080/"
        },
        "id": "xKxQb8yeVziz",
        "outputId": "c22cd869-53b2-4d0e-c9cb-67412ead3557"
      },
      "source": [
        "device"
      ],
      "execution_count": null,
      "outputs": [
        {
          "output_type": "execute_result",
          "data": {
            "text/plain": [
              "device(type='cuda', index=0)"
            ]
          },
          "metadata": {
            "tags": []
          },
          "execution_count": 17
        }
      ]
    },
    {
      "cell_type": "code",
      "metadata": {
        "id": "EVX8ia_d_ofj"
      },
      "source": [
        "def accuracy(out, labels):\n",
        "    _,pred = torch.max(out, dim=1)\n",
        "    return torch.sum(pred==labels).item()"
      ],
      "execution_count": null,
      "outputs": []
    },
    {
      "cell_type": "code",
      "metadata": {
        "colab": {
          "base_uri": "https://localhost:8080/"
        },
        "id": "wIYO2rDyRkAO",
        "outputId": "9fbc13f9-b1af-444b-f9eb-138d05997637"
      },
      "source": [
        "model = Network()\n",
        "model.parameters()"
      ],
      "execution_count": null,
      "outputs": [
        {
          "output_type": "execute_result",
          "data": {
            "text/plain": [
              "<generator object Module.parameters at 0x7fa7af39edd0>"
            ]
          },
          "metadata": {
            "tags": []
          },
          "execution_count": 19
        }
      ]
    },
    {
      "cell_type": "code",
      "metadata": {
        "id": "iodqThxGsygc"
      },
      "source": [
        "model = model.cuda()"
      ],
      "execution_count": null,
      "outputs": []
    },
    {
      "cell_type": "code",
      "metadata": {
        "colab": {
          "base_uri": "https://localhost:8080/"
        },
        "id": "VVwDe0mEUR-H",
        "outputId": "d24b6aaa-5a41-4786-8a7e-9f88af81f64f"
      },
      "source": [
        "from torchsummary import summary\n",
        "summary(model,(3,128,128))"
      ],
      "execution_count": null,
      "outputs": [
        {
          "output_type": "stream",
          "text": [
            "----------------------------------------------------------------\n",
            "        Layer (type)               Output Shape         Param #\n",
            "================================================================\n",
            "            Conv2d-1         [-1, 64, 128, 128]           1,792\n",
            "            Conv2d-2         [-1, 64, 128, 128]          36,928\n",
            "       BatchNorm2d-3         [-1, 64, 128, 128]             128\n",
            "         MaxPool2d-4           [-1, 64, 64, 64]               0\n",
            "            Conv2d-5          [-1, 128, 64, 64]          73,856\n",
            "            Conv2d-6          [-1, 128, 64, 64]         147,584\n",
            "       BatchNorm2d-7          [-1, 128, 64, 64]             256\n",
            "         MaxPool2d-8          [-1, 128, 32, 32]               0\n",
            "            Conv2d-9          [-1, 256, 32, 32]         295,168\n",
            "           Conv2d-10          [-1, 256, 32, 32]         590,080\n",
            "      BatchNorm2d-11          [-1, 256, 32, 32]             512\n",
            "        MaxPool2d-12          [-1, 256, 16, 16]               0\n",
            "           Conv2d-13          [-1, 512, 16, 16]       1,180,160\n",
            "           Conv2d-14          [-1, 512, 16, 16]       2,359,808\n",
            "      BatchNorm2d-15          [-1, 512, 16, 16]           1,024\n",
            "        MaxPool2d-16            [-1, 512, 8, 8]               0\n",
            "           Linear-17                   [-1, 64]       2,097,216\n",
            "           Linear-18                    [-1, 4]             260\n",
            "================================================================\n",
            "Total params: 6,784,772\n",
            "Trainable params: 6,784,772\n",
            "Non-trainable params: 0\n",
            "----------------------------------------------------------------\n",
            "Input size (MB): 0.19\n",
            "Forward/backward pass size (MB): 48.75\n",
            "Params size (MB): 25.88\n",
            "Estimated Total Size (MB): 74.82\n",
            "----------------------------------------------------------------\n"
          ],
          "name": "stdout"
        }
      ]
    },
    {
      "cell_type": "code",
      "metadata": {
        "id": "paLUxqr4EFBj"
      },
      "source": [
        "n_epochs = 20"
      ],
      "execution_count": null,
      "outputs": []
    },
    {
      "cell_type": "code",
      "metadata": {
        "id": "IqxLQrVShhwI"
      },
      "source": [
        "criterion = nn.CrossEntropyLoss()\n",
        "optimizer = optim.Adam(model.parameters(), lr = 1e-3)\n",
        "#optimizer = optim.SGD(resnet.parameters(), lr = 0.01, momentum = 0.09)\n",
        "#optimizer = optim.SGD(model.parameters(), lr = 0.00001)"
      ],
      "execution_count": null,
      "outputs": []
    },
    {
      "cell_type": "code",
      "metadata": {
        "id": "ioGpK9KIABka",
        "colab": {
          "base_uri": "https://localhost:8080/"
        },
        "outputId": "988a1abe-429f-4b43-ec58-1ed74ba09b98"
      },
      "source": [
        "train_loss = []\n",
        "train_acc = []\n",
        "model.train()\n",
        "for epoch in range(n_epochs):\n",
        "  loss = []\n",
        "  correct = 0\n",
        "  total = 0\n",
        "  print(\"Epoch:\", epoch)\n",
        "  \n",
        "  for batch_idx, (data, target) in enumerate(train_loader):\n",
        "    \n",
        "    data, target = data.to(device), target.to(device)\n",
        "    optimizer.zero_grad()\n",
        "\n",
        "    #outputs = resnet(data)\n",
        "    outputs = model.forward(X=data)\n",
        "    loss_ = criterion(outputs, target)\n",
        "    loss_.backward()\n",
        "    optimizer.step()\n",
        "    \n",
        "    # print(outputs.data)\n",
        "\n",
        "    loss.append(loss_.item())\n",
        "    # _, pred = F.softmax(outputs.data, dim = 1)\n",
        "    _, pred = torch.max(outputs, dim = 1)\n",
        "    # print(pred)\n",
        "    correct += torch.sum(pred == target).item()\n",
        "    \n",
        "    total += target.size(0)\n",
        "    # print(batch_idx, \"| Loss:\", loss.item())\n",
        "  epochAcc = correct / total * 100\n",
        "  epochLoss = sum(loss) / len(loss)\n",
        "  print(\"Accuracy:\", epochAcc, \"| Loss:\", epochLoss)\n",
        "  train_acc.append(epochAcc)\n",
        "  train_loss.append(epochLoss)\n",
        "\n",
        "print(\"\\n\\n--------------------------------------------------\\n\\n\")\n",
        "for epoch in range(1, n_epochs):\n",
        "  print(\"Epoch:\", epoch)\n",
        "  print(\"Accuracy:\", train_acc[epoch] - train_acc[epoch - 1], \"| Loss:\", train_loss[epoch] - train_loss[epoch - 1])"
      ],
      "execution_count": null,
      "outputs": [
        {
          "output_type": "stream",
          "text": [
            "Epoch: 0\n",
            "Accuracy: 37.21781574130568 | Loss: 2.0220073781362395\n",
            "Epoch: 1\n",
            "Accuracy: 38.13300793166565 | Loss: 1.2411953559735927\n",
            "Epoch: 2\n",
            "Accuracy: 42.70896888346552 | Loss: 1.205066376343006\n",
            "Epoch: 3\n",
            "Accuracy: 43.01403294691885 | Loss: 1.2070608524287618\n",
            "Epoch: 4\n",
            "Accuracy: 43.07504575960952 | Loss: 1.185994870052105\n",
            "Epoch: 5\n",
            "Accuracy: 46.552776082977424 | Loss: 1.1471104592811772\n",
            "Epoch: 6\n",
            "Accuracy: 51.3117754728493 | Loss: 1.103417347844054\n",
            "Epoch: 7\n",
            "Accuracy: 51.86089078706529 | Loss: 1.0997597669682853\n",
            "Epoch: 8\n",
            "Accuracy: 58.75533862111043 | Loss: 0.9985664276088156\n",
            "Epoch: 9\n",
            "Accuracy: 64.79560707748627 | Loss: 0.8857299910812844\n",
            "Epoch: 10\n",
            "Accuracy: 73.33740085417938 | Loss: 0.6777262258820418\n",
            "Epoch: 11\n",
            "Accuracy: 75.411836485662 | Loss: 0.6138774291044329\n",
            "Epoch: 12\n",
            "Accuracy: 76.93715680292861 | Loss: 0.5806471332907677\n",
            "Epoch: 13\n",
            "Accuracy: 79.43868212324588 | Loss: 0.5221594953682365\n",
            "Epoch: 14\n",
            "Accuracy: 86.82123245881635 | Loss: 0.40854741105946096\n",
            "Epoch: 15\n",
            "Accuracy: 89.0176937156803 | Loss: 0.3184459409335764\n",
            "Epoch: 16\n",
            "Accuracy: 89.93288590604027 | Loss: 0.30219661635233136\n",
            "Epoch: 17\n",
            "Accuracy: 90.9090909090909 | Loss: 0.2742044205164037\n",
            "Epoch: 18\n",
            "Accuracy: 91.45820622330689 | Loss: 0.23495073534730004\n",
            "Epoch: 19\n",
            "Accuracy: 91.94630872483222 | Loss: 0.2306371529064164\n",
            "\n",
            "\n",
            "--------------------------------------------------\n",
            "\n",
            "\n",
            "Epoch: 1\n",
            "Accuracy: 0.9151921903599742 | Loss: -0.7808120221626469\n",
            "Epoch: 2\n",
            "Accuracy: 4.575960951799871 | Loss: -0.03612897963058659\n",
            "Epoch: 3\n",
            "Accuracy: 0.3050640634533295 | Loss: 0.0019944760857557586\n",
            "Epoch: 4\n",
            "Accuracy: 0.06101281269067016 | Loss: -0.0210659823766568\n",
            "Epoch: 5\n",
            "Accuracy: 3.4777303233679007 | Loss: -0.03888441077092786\n",
            "Epoch: 6\n",
            "Accuracy: 4.7589993898718745 | Loss: -0.04369311143712307\n",
            "Epoch: 7\n",
            "Accuracy: 0.5491153142159888 | Loss: -0.00365758087576884\n",
            "Epoch: 8\n",
            "Accuracy: 6.894447834045145 | Loss: -0.10119333935946961\n",
            "Epoch: 9\n",
            "Accuracy: 6.040268456375834 | Loss: -0.11283643652753128\n",
            "Epoch: 10\n",
            "Accuracy: 8.541793776693112 | Loss: -0.20800376519924257\n",
            "Epoch: 11\n",
            "Accuracy: 2.074435631482615 | Loss: -0.06384879677760891\n",
            "Epoch: 12\n",
            "Accuracy: 1.525320317266619 | Loss: -0.03323029581366521\n",
            "Epoch: 13\n",
            "Accuracy: 2.5015253203172705 | Loss: -0.0584876379225312\n",
            "Epoch: 14\n",
            "Accuracy: 7.382550335570471 | Loss: -0.11361208430877551\n",
            "Epoch: 15\n",
            "Accuracy: 2.196461256863941 | Loss: -0.09010147012588454\n",
            "Epoch: 16\n",
            "Accuracy: 0.9151921903599742 | Loss: -0.01624932458124506\n",
            "Epoch: 17\n",
            "Accuracy: 0.9762050030506373 | Loss: -0.027992195835927658\n",
            "Epoch: 18\n",
            "Accuracy: 0.5491153142159817 | Loss: -0.03925368516910366\n",
            "Epoch: 19\n",
            "Accuracy: 0.48810250152533285 | Loss: -0.004313582440883645\n"
          ],
          "name": "stdout"
        }
      ]
    },
    {
      "cell_type": "code",
      "metadata": {
        "id": "BNgF0QxK7wiX"
      },
      "source": [
        "\n",
        "os.kill(os.getpid(), 9)"
      ],
      "execution_count": null,
      "outputs": []
    },
    {
      "cell_type": "code",
      "metadata": {
        "id": "11_QBlbDBvav",
        "colab": {
          "base_uri": "https://localhost:8080/"
        },
        "outputId": "32644f96-df2a-47fa-d16a-a77d9c293aa1"
      },
      "source": [
        "def save_model(state, filename=\"/content/drive/MyDrive/models/affanabbu.pth.tar\"):\n",
        "    print(\"=> Saving checkpoint\")\n",
        "    torch.save(state, filename)\n",
        "\n",
        "\n",
        "\n",
        "checkpoint = {'state_dict': model.state_dict(), 'optimizer' : optimizer.state_dict(),'epochs':20}\n",
        "save_model(checkpoint)"
      ],
      "execution_count": null,
      "outputs": [
        {
          "output_type": "stream",
          "text": [
            "=> Saving checkpoint\n"
          ],
          "name": "stdout"
        }
      ]
    },
    {
      "cell_type": "code",
      "metadata": {
        "id": "r7-IumsGKIie"
      },
      "source": [
        "def make_predictions():\n",
        "  ground_truth"
      ],
      "execution_count": null,
      "outputs": []
    },
    {
      "cell_type": "code",
      "metadata": {
        "colab": {
          "base_uri": "https://localhost:8080/",
          "height": 167
        },
        "id": "QlQoB2Y4L-Fm",
        "outputId": "548fc3c7-8ec8-4299-84f6-ce62d016c288"
      },
      "source": [
        "valid_sampler.classes"
      ],
      "execution_count": null,
      "outputs": [
        {
          "output_type": "error",
          "ename": "AttributeError",
          "evalue": "ignored",
          "traceback": [
            "\u001b[0;31m---------------------------------------------------------------------------\u001b[0m",
            "\u001b[0;31mAttributeError\u001b[0m                            Traceback (most recent call last)",
            "\u001b[0;32m<ipython-input-30-c798f2835389>\u001b[0m in \u001b[0;36m<module>\u001b[0;34m()\u001b[0m\n\u001b[0;32m----> 1\u001b[0;31m \u001b[0mvalid_sampler\u001b[0m\u001b[0;34m.\u001b[0m\u001b[0mclasses\u001b[0m\u001b[0;34m\u001b[0m\u001b[0;34m\u001b[0m\u001b[0m\n\u001b[0m",
            "\u001b[0;31mAttributeError\u001b[0m: 'SubsetRandomSampler' object has no attribute 'classes'"
          ]
        }
      ]
    },
    {
      "cell_type": "code",
      "metadata": {
        "id": "L6NUiMxzK47k"
      },
      "source": [
        "def predict(image, model):\n",
        "  xb = image.unsqueeze(0)\n",
        "  xb = xb.to(device)\n",
        "  yb = model(xb)\n",
        "  _, preds = torch.max(yb, dim =1)\n",
        "  return class_names[preds[0].item()]\n",
        "\n"
      ],
      "execution_count": null,
      "outputs": []
    },
    {
      "cell_type": "code",
      "metadata": {
        "id": "1fIeVbU8Nn_d"
      },
      "source": [
        ""
      ],
      "execution_count": null,
      "outputs": []
    },
    {
      "cell_type": "code",
      "metadata": {
        "colab": {
          "base_uri": "https://localhost:8080/",
          "height": 303
        },
        "id": "GmDZAkxHNmty",
        "outputId": "977d7235-5106-4079-c8da-d47d3bc85beb"
      },
      "source": [
        "img, label = dataset[val_indices[6]]\n",
        "plt.imshow(img.permute(2,1,0))\n",
        "print(label)"
      ],
      "execution_count": null,
      "outputs": [
        {
          "output_type": "stream",
          "text": [
            "Clipping input data to the valid range for imshow with RGB data ([0..1] for floats or [0..255] for integers).\n"
          ],
          "name": "stderr"
        },
        {
          "output_type": "stream",
          "text": [
            "2\n"
          ],
          "name": "stdout"
        },
        {
          "output_type": "display_data",
          "data": {
            "image/png": "[encoded data removed]",
            "text/plain": [
              "<Figure size 432x288 with 1 Axes>"
            ]
          },
          "metadata": {
            "tags": [],
            "needs_background": "light"
          }
        }
      ]
    },
    {
      "cell_type": "code",
      "metadata": {
        "colab": {
          "base_uri": "https://localhost:8080/"
        },
        "id": "sr-AFOihO5k8",
        "outputId": "7b8e7c9d-6173-4de3-fd7c-d3aab4ca967d"
      },
      "source": [
        "class_names"
      ],
      "execution_count": null,
      "outputs": [
        {
          "output_type": "execute_result",
          "data": {
            "text/plain": [
              "['healthy', 'multiple_diseases', 'rust', 'scab']"
            ]
          },
          "metadata": {
            "tags": []
          },
          "execution_count": 43
        }
      ]
    },
    {
      "cell_type": "code",
      "metadata": {
        "colab": {
          "base_uri": "https://localhost:8080/"
        },
        "id": "Whg3GjYjO0Yl",
        "outputId": "5b079a05-f5b9-4e13-a1d5-f279eb8e8482"
      },
      "source": [
        "from sklearn.metrics import accuracy_score\n",
        "accuracy_score(lab, pr)"
      ],
      "execution_count": null,
      "outputs": [
        {
          "output_type": "execute_result",
          "data": {
            "text/plain": [
              "0.7307692307692307"
            ]
          },
          "metadata": {
            "tags": []
          },
          "execution_count": 48
        }
      ]
    },
    {
      "cell_type": "code",
      "metadata": {
        "colab": {
          "base_uri": "https://localhost:8080/"
        },
        "id": "UwpC7M4oMbxO",
        "outputId": "ecff2000-02cf-45d1-a799-631bbdcd658f"
      },
      "source": [
        "lab = []\n",
        "pr = []\n",
        "for i in val_indices:\n",
        "  img, label = dataset[i]\n",
        "  lab.append(class_names[label])\n",
        "  pr.append(predict(img,model))\n",
        "  print('Label: {}  Predicted: {}'.format(class_names[label], predict(img,model)))\n",
        "  "
      ],
      "execution_count": null,
      "outputs": [
        {
          "output_type": "stream",
          "text": [
            "Label: scab  Predicted: scab\n",
            "Label: rust  Predicted: rust\n",
            "Label: healthy  Predicted: healthy\n",
            "Label: healthy  Predicted: healthy\n",
            "Label: scab  Predicted: scab\n",
            "Label: scab  Predicted: scab\n",
            "Label: rust  Predicted: rust\n",
            "Label: scab  Predicted: scab\n",
            "Label: scab  Predicted: scab\n",
            "Label: scab  Predicted: scab\n",
            "Label: rust  Predicted: rust\n",
            "Label: scab  Predicted: scab\n",
            "Label: scab  Predicted: rust\n",
            "Label: scab  Predicted: rust\n",
            "Label: rust  Predicted: rust\n",
            "Label: multiple_diseases  Predicted: scab\n",
            "Label: healthy  Predicted: healthy\n",
            "Label: multiple_diseases  Predicted: scab\n",
            "Label: healthy  Predicted: healthy\n",
            "Label: healthy  Predicted: healthy\n",
            "Label: scab  Predicted: scab\n",
            "Label: scab  Predicted: scab\n",
            "Label: rust  Predicted: rust\n",
            "Label: rust  Predicted: healthy\n",
            "Label: rust  Predicted: rust\n",
            "Label: healthy  Predicted: healthy\n",
            "Label: rust  Predicted: rust\n",
            "Label: scab  Predicted: scab\n",
            "Label: healthy  Predicted: rust\n",
            "Label: rust  Predicted: rust\n",
            "Label: scab  Predicted: scab\n",
            "Label: healthy  Predicted: healthy\n",
            "Label: scab  Predicted: rust\n",
            "Label: healthy  Predicted: healthy\n",
            "Label: scab  Predicted: multiple_diseases\n",
            "Label: healthy  Predicted: scab\n",
            "Label: multiple_diseases  Predicted: rust\n",
            "Label: multiple_diseases  Predicted: healthy\n",
            "Label: healthy  Predicted: scab\n",
            "Label: scab  Predicted: rust\n",
            "Label: scab  Predicted: scab\n",
            "Label: healthy  Predicted: healthy\n",
            "Label: rust  Predicted: rust\n",
            "Label: rust  Predicted: rust\n",
            "Label: healthy  Predicted: healthy\n",
            "Label: healthy  Predicted: healthy\n",
            "Label: healthy  Predicted: healthy\n",
            "Label: healthy  Predicted: healthy\n",
            "Label: healthy  Predicted: healthy\n",
            "Label: rust  Predicted: rust\n",
            "Label: rust  Predicted: rust\n",
            "Label: multiple_diseases  Predicted: multiple_diseases\n",
            "Label: rust  Predicted: rust\n",
            "Label: rust  Predicted: rust\n",
            "Label: rust  Predicted: rust\n",
            "Label: rust  Predicted: rust\n",
            "Label: healthy  Predicted: healthy\n",
            "Label: healthy  Predicted: healthy\n",
            "Label: rust  Predicted: rust\n",
            "Label: scab  Predicted: scab\n",
            "Label: rust  Predicted: scab\n",
            "Label: healthy  Predicted: healthy\n",
            "Label: scab  Predicted: healthy\n",
            "Label: healthy  Predicted: healthy\n",
            "Label: rust  Predicted: rust\n",
            "Label: scab  Predicted: scab\n",
            "Label: scab  Predicted: rust\n",
            "Label: scab  Predicted: healthy\n",
            "Label: rust  Predicted: rust\n",
            "Label: healthy  Predicted: healthy\n",
            "Label: scab  Predicted: rust\n",
            "Label: healthy  Predicted: scab\n",
            "Label: scab  Predicted: scab\n",
            "Label: scab  Predicted: rust\n",
            "Label: scab  Predicted: rust\n",
            "Label: healthy  Predicted: rust\n",
            "Label: healthy  Predicted: scab\n",
            "Label: scab  Predicted: scab\n",
            "Label: healthy  Predicted: healthy\n",
            "Label: healthy  Predicted: healthy\n",
            "Label: rust  Predicted: rust\n",
            "Label: rust  Predicted: rust\n",
            "Label: rust  Predicted: rust\n",
            "Label: rust  Predicted: rust\n",
            "Label: scab  Predicted: scab\n",
            "Label: rust  Predicted: rust\n",
            "Label: scab  Predicted: healthy\n",
            "Label: multiple_diseases  Predicted: rust\n",
            "Label: rust  Predicted: rust\n",
            "Label: scab  Predicted: scab\n",
            "Label: scab  Predicted: scab\n",
            "Label: rust  Predicted: rust\n",
            "Label: multiple_diseases  Predicted: rust\n",
            "Label: scab  Predicted: scab\n",
            "Label: multiple_diseases  Predicted: scab\n",
            "Label: healthy  Predicted: healthy\n",
            "Label: healthy  Predicted: scab\n",
            "Label: rust  Predicted: rust\n",
            "Label: rust  Predicted: scab\n",
            "Label: rust  Predicted: rust\n",
            "Label: multiple_diseases  Predicted: rust\n",
            "Label: scab  Predicted: healthy\n",
            "Label: rust  Predicted: rust\n",
            "Label: rust  Predicted: rust\n",
            "Label: rust  Predicted: rust\n",
            "Label: rust  Predicted: rust\n",
            "Label: rust  Predicted: rust\n",
            "Label: healthy  Predicted: healthy\n",
            "Label: healthy  Predicted: rust\n",
            "Label: scab  Predicted: scab\n",
            "Label: scab  Predicted: rust\n",
            "Label: healthy  Predicted: healthy\n",
            "Label: healthy  Predicted: rust\n",
            "Label: scab  Predicted: scab\n",
            "Label: multiple_diseases  Predicted: rust\n",
            "Label: healthy  Predicted: healthy\n",
            "Label: multiple_diseases  Predicted: scab\n",
            "Label: scab  Predicted: scab\n",
            "Label: scab  Predicted: scab\n",
            "Label: healthy  Predicted: healthy\n",
            "Label: rust  Predicted: rust\n",
            "Label: healthy  Predicted: healthy\n",
            "Label: scab  Predicted: scab\n",
            "Label: rust  Predicted: rust\n",
            "Label: healthy  Predicted: healthy\n",
            "Label: scab  Predicted: scab\n",
            "Label: multiple_diseases  Predicted: rust\n",
            "Label: healthy  Predicted: healthy\n",
            "Label: rust  Predicted: rust\n",
            "Label: healthy  Predicted: healthy\n",
            "Label: rust  Predicted: rust\n",
            "Label: scab  Predicted: scab\n",
            "Label: healthy  Predicted: healthy\n",
            "Label: scab  Predicted: scab\n",
            "Label: scab  Predicted: scab\n",
            "Label: healthy  Predicted: scab\n",
            "Label: rust  Predicted: rust\n",
            "Label: rust  Predicted: multiple_diseases\n",
            "Label: rust  Predicted: rust\n",
            "Label: rust  Predicted: rust\n",
            "Label: scab  Predicted: multiple_diseases\n",
            "Label: scab  Predicted: rust\n",
            "Label: healthy  Predicted: healthy\n",
            "Label: scab  Predicted: scab\n",
            "Label: healthy  Predicted: healthy\n",
            "Label: scab  Predicted: scab\n",
            "Label: scab  Predicted: scab\n",
            "Label: scab  Predicted: rust\n",
            "Label: scab  Predicted: scab\n",
            "Label: rust  Predicted: rust\n",
            "Label: rust  Predicted: healthy\n",
            "Label: scab  Predicted: scab\n",
            "Label: scab  Predicted: scab\n",
            "Label: healthy  Predicted: healthy\n",
            "Label: rust  Predicted: rust\n",
            "Label: healthy  Predicted: healthy\n",
            "Label: rust  Predicted: rust\n",
            "Label: scab  Predicted: scab\n",
            "Label: rust  Predicted: rust\n",
            "Label: healthy  Predicted: healthy\n",
            "Label: multiple_diseases  Predicted: healthy\n",
            "Label: scab  Predicted: scab\n",
            "Label: scab  Predicted: scab\n",
            "Label: scab  Predicted: scab\n",
            "Label: healthy  Predicted: healthy\n",
            "Label: rust  Predicted: healthy\n",
            "Label: rust  Predicted: rust\n",
            "Label: rust  Predicted: healthy\n",
            "Label: rust  Predicted: rust\n",
            "Label: scab  Predicted: scab\n",
            "Label: healthy  Predicted: healthy\n",
            "Label: rust  Predicted: rust\n",
            "Label: healthy  Predicted: healthy\n",
            "Label: rust  Predicted: rust\n",
            "Label: scab  Predicted: multiple_diseases\n",
            "Label: rust  Predicted: rust\n",
            "Label: rust  Predicted: rust\n",
            "Label: scab  Predicted: scab\n",
            "Label: healthy  Predicted: healthy\n",
            "Label: healthy  Predicted: scab\n",
            "Label: scab  Predicted: scab\n",
            "Label: multiple_diseases  Predicted: rust\n"
          ],
          "name": "stdout"
        }
      ]
    },
    {
      "cell_type": "code",
      "metadata": {
        "id": "SuWTaVP1IxY9",
        "colab": {
          "base_uri": "https://localhost:8080/",
          "height": 410
        },
        "outputId": "e2b57d91-f393-4a15-8112-e84791e8aef4"
      },
      "source": [
        "def load_model(filename=\"/content/drive/MyDrive/models/resnet18pre.pth.tar\"):\n",
        "    print(\"=> Loading checkpoint\")\n",
        "    return torch.load(filename)\n",
        "\n",
        "resnet.load_state_dict(load_model()['state_dict'])\n",
        "print(resnet)"
      ],
      "execution_count": null,
      "outputs": [
        {
          "output_type": "stream",
          "text": [
            "=> Loading checkpoint\n"
          ],
          "name": "stdout"
        },
        {
          "output_type": "error",
          "ename": "RuntimeError",
          "evalue": "ignored",
          "traceback": [
            "\u001b[0;31m---------------------------------------------------------------------------\u001b[0m",
            "\u001b[0;31mRuntimeError\u001b[0m                              Traceback (most recent call last)",
            "\u001b[0;32m<ipython-input-36-e9eca6cf7345>\u001b[0m in \u001b[0;36m<module>\u001b[0;34m()\u001b[0m\n\u001b[1;32m      3\u001b[0m     \u001b[0;32mreturn\u001b[0m \u001b[0mtorch\u001b[0m\u001b[0;34m.\u001b[0m\u001b[0mload\u001b[0m\u001b[0;34m(\u001b[0m\u001b[0mfilename\u001b[0m\u001b[0;34m)\u001b[0m\u001b[0;34m\u001b[0m\u001b[0;34m\u001b[0m\u001b[0m\n\u001b[1;32m      4\u001b[0m \u001b[0;34m\u001b[0m\u001b[0m\n\u001b[0;32m----> 5\u001b[0;31m \u001b[0mresnet\u001b[0m\u001b[0;34m.\u001b[0m\u001b[0mload_state_dict\u001b[0m\u001b[0;34m(\u001b[0m\u001b[0mload_model\u001b[0m\u001b[0;34m(\u001b[0m\u001b[0;34m)\u001b[0m\u001b[0;34m[\u001b[0m\u001b[0;34m'state_dict'\u001b[0m\u001b[0;34m]\u001b[0m\u001b[0;34m)\u001b[0m\u001b[0;34m\u001b[0m\u001b[0;34m\u001b[0m\u001b[0m\n\u001b[0m\u001b[1;32m      6\u001b[0m \u001b[0mprint\u001b[0m\u001b[0;34m(\u001b[0m\u001b[0mresnet\u001b[0m\u001b[0;34m)\u001b[0m\u001b[0;34m\u001b[0m\u001b[0;34m\u001b[0m\u001b[0m\n",
            "\u001b[0;32m/usr/local/lib/python3.7/dist-packages/torch/nn/modules/module.py\u001b[0m in \u001b[0;36mload_state_dict\u001b[0;34m(self, state_dict, strict)\u001b[0m\n\u001b[1;32m   1222\u001b[0m         \u001b[0;32mif\u001b[0m \u001b[0mlen\u001b[0m\u001b[0;34m(\u001b[0m\u001b[0merror_msgs\u001b[0m\u001b[0;34m)\u001b[0m \u001b[0;34m>\u001b[0m \u001b[0;36m0\u001b[0m\u001b[0;34m:\u001b[0m\u001b[0;34m\u001b[0m\u001b[0;34m\u001b[0m\u001b[0m\n\u001b[1;32m   1223\u001b[0m             raise RuntimeError('Error(s) in loading state_dict for {}:\\n\\t{}'.format(\n\u001b[0;32m-> 1224\u001b[0;31m                                self.__class__.__name__, \"\\n\\t\".join(error_msgs)))\n\u001b[0m\u001b[1;32m   1225\u001b[0m         \u001b[0;32mreturn\u001b[0m \u001b[0m_IncompatibleKeys\u001b[0m\u001b[0;34m(\u001b[0m\u001b[0mmissing_keys\u001b[0m\u001b[0;34m,\u001b[0m \u001b[0munexpected_keys\u001b[0m\u001b[0;34m)\u001b[0m\u001b[0;34m\u001b[0m\u001b[0;34m\u001b[0m\u001b[0m\n\u001b[1;32m   1226\u001b[0m \u001b[0;34m\u001b[0m\u001b[0m\n",
            "\u001b[0;31mRuntimeError\u001b[0m: Error(s) in loading state_dict for ResNet:\n\tsize mismatch for fc.weight: copying a param with shape torch.Size([4, 512]) from checkpoint, the shape in current model is torch.Size([1000, 512]).\n\tsize mismatch for fc.bias: copying a param with shape torch.Size([4]) from checkpoint, the shape in current model is torch.Size([1000])."
          ]
        }
      ]
    },
    {
      "cell_type": "code",
      "metadata": {
        "id": "ELgBTyK_K4kx"
      },
      "source": [
        ""
      ],
      "execution_count": null,
      "outputs": []
    },
    {
      "cell_type": "code",
      "metadata": {
        "id": "_byKXcW0x7qw"
      },
      "source": [
        "for p in resnet.parameters():\n",
        "  print(p)"
      ],
      "execution_count": null,
      "outputs": []
    },
    {
      "cell_type": "code",
      "metadata": {
        "id": "8Y9ed8Qdyy9z"
      },
      "source": [
        "from PIL import Image\n",
        "import cv2"
      ],
      "execution_count": null,
      "outputs": []
    },
    {
      "cell_type": "code",
      "metadata": {
        "id": "Kv3pykymzN0A"
      },
      "source": [
        "class CustomDatasetClass(Dataset):\n",
        "  def __init__(self,dir,transform):\n",
        "    self.dir=dir\n",
        "    self.transforms=transform\n",
        "    images=os.listdir(dir)\n",
        "    self.total = natsort.natsorted(images)\n",
        "\n",
        "  def __len__(self):\n",
        "    return len(self.total)\n",
        "\n",
        "  def __getitem__(self, idx):\n",
        "    img_loc = os.path.join(self.dir, self.total[idx])\n",
        "    image = Image.open(img_loc).convert(\"RGB\")\n",
        "    # image = cv2.imread(img_loc, cv2.IMREAD_COLOR)\n",
        "    # image = cv2.cvtColor(image, cv2.COLOR_BGR2RGB)\n",
        "    tensor_image = self.transforms(image)\n",
        "    return tensor_image"
      ],
      "execution_count": null,
      "outputs": []
    },
    {
      "cell_type": "code",
      "metadata": {
        "id": "OFudJDI69esQ"
      },
      "source": [
        "testDataset = CustomDatasetClass(\"/content/drive/MyDrive/plant pathology dataset/plant data/images/test\", transform=transforms)\n",
        "testLoader = DataLoader(testDataset, batch_size=1, shuffle=False, num_workers=2, drop_last=False)"
      ],
      "execution_count": null,
      "outputs": []
    },
    {
      "cell_type": "code",
      "metadata": {
        "colab": {
          "base_uri": "https://localhost:8080/"
        },
        "id": "LcbmyW9PA_LE",
        "outputId": "a4966dd6-c2a5-4a4b-d68f-64e7b4cb20df"
      },
      "source": [
        ""
      ],
      "execution_count": null,
      "outputs": [
        {
          "output_type": "stream",
          "text": [
            "Requirement already satisfied: natsort in /usr/local/lib/python3.7/dist-packages (5.5.0)\n"
          ],
          "name": "stdout"
        }
      ]
    },
    {
      "cell_type": "code",
      "metadata": {
        "id": "_wXfL1CHhkqQ"
      },
      "source": [
        ""
      ],
      "execution_count": null,
      "outputs": []
    }
  ]
}